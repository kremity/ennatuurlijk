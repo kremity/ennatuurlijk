{
 "cells": [
  {
   "cell_type": "markdown",
   "metadata": {
    "application/vnd.databricks.v1+cell": {
     "cellMetadata": {
      "byteLimit": 2048000,
      "rowLimit": 10000
     },
     "inputWidgets": {},
     "nuid": "9f7e5242-5903-4ea8-9d32-35d37e8ba615",
     "showTitle": false,
     "tableResultSettingsMap": {},
     "title": ""
    }
   },
   "source": [
    "### Mounting Azure Storage Account/conatiners using Service Principal and AZ KeyVault\n",
    "\n",
    "Steps to that have been prepared:\n",
    "- creating an Azure KeyVault\n",
    "- creating Secret Scope to link Databricks to KV\n",
    "- creating a Service Principal\n",
    "- setting all the secrets\n"
   ]
  },
  {
   "cell_type": "code",
   "execution_count": 0,
   "metadata": {
    "application/vnd.databricks.v1+cell": {
     "cellMetadata": {
      "byteLimit": 2048000,
      "rowLimit": 10000
     },
     "inputWidgets": {},
     "nuid": "e7a0b1f7-95d9-4d02-a725-a64ecbec798f",
     "showTitle": false,
     "tableResultSettingsMap": {},
     "title": ""
    }
   },
   "outputs": [],
   "source": [
    "# List the secrets in specific scope\n",
    "display(dbutils.secrets.list(\"scope-ennatuurlijk\"))"
   ]
  },
  {
   "cell_type": "code",
   "execution_count": 0,
   "metadata": {
    "application/vnd.databricks.v1+cell": {
     "cellMetadata": {
      "byteLimit": 2048000,
      "rowLimit": 10000
     },
     "inputWidgets": {},
     "nuid": "7ab41924-f13a-4e65-9a71-02911c8b8280",
     "showTitle": true,
     "tableResultSettingsMap": {},
     "title": "in"
    }
   },
   "outputs": [],
   "source": [
    "# Define DataLakeMounter function\n",
    "\n",
    "def DataLakeMounter(storage_account_name, container_names):\n",
    "    # Set secret scope\n",
    "    secret_scope = \"scope-ennatuurlijk\"\n",
    "\n",
    "    # Set secrets & vars\n",
    "    client_id = dbutils.secrets.get(scope=secret_scope,key=\"ennatuurlijk-client-id\")\n",
    "    tenant_id = dbutils.secrets.get(scope=secret_scope,key=\"tenant-id\")\n",
    "    client_secret = dbutils.secrets.get(scope=secret_scope,key=\"ennatuurlijk-client-secret\")\n",
    "    sa_endpoint = f\"https://login.microsoftonline.com/{tenant_id}/oauth2/token\"\n",
    "\n",
    "    # Standard spark configs to be used (from MS documentation)\n",
    "    configs = {\n",
    "        \"fs.azure.account.auth.type\": \"OAuth\",\n",
    "        \"fs.azure.account.oauth.provider.type\": \"org.apache.hadoop.fs.azurebfs.oauth2.ClientCredsTokenProvider\",\n",
    "        \"fs.azure.account.oauth2.client.id\": client_id,\n",
    "        \"fs.azure.account.oauth2.client.secret\": client_secret,\n",
    "        \"fs.azure.account.oauth2.client.endpoint\": sa_endpoint\n",
    "    }\n",
    "\n",
    "    # Check if mount already exists before attempting mount\n",
    "    for container_name in container_names:\n",
    "        mount_path = f\"/mnt/{storage_account_name}/{container_name}\"\n",
    "        existing_mounts = [mount.mountPoint for mount in dbutils.fs.mounts()]\n",
    "        \n",
    "        # If mount exists, unmount it to make sure mounting does not fail\n",
    "        if mount_path in existing_mounts:\n",
    "            dbutils.fs.unmount(mount_path)\n",
    "\n",
    "        # Do the actual mounting\n",
    "        dbutils.fs.mount(\n",
    "            source=f\"abfss://{container_name}@{storage_account_name}.dfs.core.windows.net/\",\n",
    "            mount_point=mount_path,\n",
    "            extra_configs=configs\n",
    "        )\n",
    "    \n",
    "    display(dbutils.fs.mounts())"
   ]
  },
  {
   "cell_type": "code",
   "execution_count": 0,
   "metadata": {
    "application/vnd.databricks.v1+cell": {
     "cellMetadata": {
      "byteLimit": 2048000,
      "rowLimit": 10000
     },
     "inputWidgets": {},
     "nuid": "26677331-f71b-4013-9991-99838d673ec7",
     "showTitle": false,
     "tableResultSettingsMap": {},
     "title": ""
    }
   },
   "outputs": [],
   "source": [
    "# Mount containers into Databricks\n",
    "\n",
    "storage_account_name = dbutils.secrets.get(scope=\"scope-ennatuurlijk\",key=\"ennatuurlijk-sa-name\")\n",
    "container_names = [\n",
    "    \"bronze\",\n",
    "    \"silver\",\n",
    "    \"gold\"\n",
    "]\n",
    "\n",
    "DataLakeMounter(storage_account_name, container_names)\n"
   ]
  },
  {
   "cell_type": "code",
   "execution_count": 0,
   "metadata": {
    "application/vnd.databricks.v1+cell": {
     "cellMetadata": {},
     "inputWidgets": {},
     "nuid": "6d2ae88a-8ffa-4ce5-b382-79f048dca475",
     "showTitle": false,
     "tableResultSettingsMap": {},
     "title": ""
    }
   },
   "outputs": [],
   "source": []
  }
 ],
 "metadata": {
  "application/vnd.databricks.v1+notebook": {
   "computePreferences": null,
   "dashboards": [],
   "environmentMetadata": {
    "base_environment": "",
    "environment_version": "2"
   },
   "language": "python",
   "notebookMetadata": {
    "pythonIndentUnit": 4
   },
   "notebookName": "mount_sa_using_sp",
   "widgets": {}
  },
  "language_info": {
   "name": "python"
  }
 },
 "nbformat": 4,
 "nbformat_minor": 0
}
